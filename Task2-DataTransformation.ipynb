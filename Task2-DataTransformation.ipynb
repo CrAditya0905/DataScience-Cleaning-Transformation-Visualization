{
 "cells": [
  {
   "cell_type": "code",
   "execution_count": 2,
   "id": "276fdfa3",
   "metadata": {},
   "outputs": [],
   "source": [
    "import pandas as pd\n",
    "from sklearn.preprocessing import LabelEncoder, StandardScaler"
   ]
  },
  {
   "cell_type": "code",
   "execution_count": 6,
   "id": "41490c57",
   "metadata": {},
   "outputs": [],
   "source": [
    "# Load the Iris dataset\n",
    "df = pd.read_csv('Iris.csv')"
   ]
  },
  {
   "cell_type": "code",
   "execution_count": 7,
   "id": "465099eb",
   "metadata": {},
   "outputs": [],
   "source": [
    "# 1. Encode categorical variables\n",
    "# Encode the 'Species' column, which is categorical\n",
    "label_encoder = LabelEncoder()\n",
    "df['Species'] = label_encoder.fit_transform(df['Species'])"
   ]
  },
  {
   "cell_type": "code",
   "execution_count": 8,
   "id": "ea5ed3a2",
   "metadata": {},
   "outputs": [],
   "source": [
    "# 2. Scale numeric features\n",
    "scaler = StandardScaler()\n",
    "numeric_columns = ['SepalLengthCm', 'SepalWidthCm', 'PetalLengthCm', 'PetalWidthCm']\n",
    "df[numeric_columns] = scaler.fit_transform(df[numeric_columns])"
   ]
  },
  {
   "cell_type": "code",
   "execution_count": 9,
   "id": "851eaf56",
   "metadata": {},
   "outputs": [
    {
     "name": "stdout",
     "output_type": "stream",
     "text": [
      "Data after transformation:\n",
      "   Id  SepalLengthCm  SepalWidthCm  PetalLengthCm  PetalWidthCm  Species\n",
      "0   1      -0.900681      1.032057      -1.341272     -1.570201        0\n",
      "1   2      -1.143017     -0.124958      -1.341272     -1.307918        0\n",
      "2   3      -1.385353      0.337848      -1.398138     -1.307918        0\n",
      "3   4      -1.506521      0.106445      -1.284407     -1.307918        0\n",
      "4   5      -1.021849      1.263460      -1.341272     -1.307918        0\n"
     ]
    }
   ],
   "source": [
    "# Display transformed data\n",
    "print(\"Data after transformation:\")\n",
    "print(df.head())"
   ]
  },
  {
   "cell_type": "code",
   "execution_count": null,
   "id": "6cd8b4e4",
   "metadata": {},
   "outputs": [],
   "source": []
  }
 ],
 "metadata": {
  "kernelspec": {
   "display_name": "Python 3 (ipykernel)",
   "language": "python",
   "name": "python3"
  },
  "language_info": {
   "codemirror_mode": {
    "name": "ipython",
    "version": 3
   },
   "file_extension": ".py",
   "mimetype": "text/x-python",
   "name": "python",
   "nbconvert_exporter": "python",
   "pygments_lexer": "ipython3",
   "version": "3.9.13"
  }
 },
 "nbformat": 4,
 "nbformat_minor": 5
}
